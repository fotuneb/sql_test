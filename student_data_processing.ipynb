{
 "cells": [
  {
   "cell_type": "markdown",
   "id": "b6dc4fcd",
   "metadata": {},
   "source": [
    "# Обработка датасета\n"
   ]
  },
  {
   "cell_type": "markdown",
   "id": "c1115271",
   "metadata": {},
   "source": [
    "В данной тетрадке будут выполнены следующие шаги:\n",
    "\n",
    "1. Проверка данных на дубликаты, пропуски, типы данных и аномалии.\n",
    "2. Предобработка данных при необходимости.\n",
    "3. Разделение учеников на 'волны' в зависимости от времени их присоединения к курсу.\n",
    "\n",
    "### Импорт библиотек и загрузка данных"
   ]
  },
  {
   "cell_type": "markdown",
   "id": "eb3b8b21",
   "metadata": {},
   "source": [
    "```python\n",
    "import pandas as pd\n",
    "\n",
    "# Загрузка датасета\n",
    "data = pd.read_csv('student_course_data.csv')\n",
    "data.head()\n",
    "```\n"
   ]
  },
  {
   "cell_type": "markdown",
   "id": "a943f6e0",
   "metadata": {},
   "source": [
    "### 1. Проверка на дубликаты и их удаление"
   ]
  },
  {
   "cell_type": "markdown",
   "id": "8fa98862",
   "metadata": {},
   "source": [
    "```python\n",
    "# Проверка на дубликаты\n",
    "duplicates = data.duplicated().sum()\n",
    "print(f'Количество дубликатов: {duplicates}')\n",
    "\n",
    "# Удаление дубликатов, если они есть\n",
    "if duplicates > 0:\n",
    "    data = data.drop_duplicates()\n",
    "```\n"
   ]
  },
  {
   "cell_type": "markdown",
   "id": "2a1ccb97",
   "metadata": {},
   "source": [
    "### 2. Проверка на пропуски и их обработка"
   ]
  },
  {
   "cell_type": "markdown",
   "id": "b8626bef",
   "metadata": {},
   "source": [
    "```python\n",
    "# Проверка на пропуски\n",
    "missing_values = data.isnull().sum()\n",
    "print('Пропущенные значения в каждом столбце:')\n",
    "print(missing_values[missing_values > 0])\n",
    "\n",
    "# Обработка пропусков (зависит от структуры данных)\n",
    "# Например, замена пропусков на дефолтные значения или удаление строк\n",
    "data = data.fillna({'subject_name': 'Неизвестно', 'user_city': 'Неизвестно'})\n",
    "```\n"
   ]
  },
  {
   "cell_type": "markdown",
   "id": "3453afd6",
   "metadata": {},
   "source": [
    "### 3. Проверка типов данных и преобразование"
   ]
  },
  {
   "cell_type": "markdown",
   "id": "ad61a001",
   "metadata": {},
   "source": [
    "```python\n",
    "# Проверка типов данных\n",
    "print(data.dtypes)\n",
    "\n",
    "# Преобразование типов данных для дат, если необходимо\n",
    "data['course_start_date'] = pd.to_datetime(data['course_start_date'], errors='coerce')\n",
    "data['course_open_date'] = pd.to_datetime(data['course_open_date'], errors='coerce')\n",
    "```\n"
   ]
  },
  {
   "cell_type": "markdown",
   "id": "126959bf",
   "metadata": {},
   "source": [
    "### 4. Обнаружение и обработка аномальных значений"
   ]
  },
  {
   "cell_type": "markdown",
   "id": "a946d218",
   "metadata": {},
   "source": [
    "```python\n",
    "# Поиск аномальных значений, например, отрицательные или странные даты\n",
    "data = data[(data['course_open_date'] >= data['course_start_date']) | (data['course_open_date'].isnull())]\n",
    "```\n"
   ]
  },
  {
   "cell_type": "markdown",
   "id": "92c7fb44",
   "metadata": {},
   "source": [
    "### 5. Разделение учеников на волны"
   ]
  },
  {
   "cell_type": "markdown",
   "id": "fad17966",
   "metadata": {},
   "source": [
    "```python\n",
    "# Функция для определения волны\n",
    "def determine_wave(row):\n",
    "    delta_days = (row['course_open_date'] - row['course_start_date']).days\n",
    "    if delta_days <= 0:\n",
    "        return '0 волна'\n",
    "    elif delta_days <= 7:\n",
    "        return '1 волна'\n",
    "    elif delta_days <= 14:\n",
    "        return '2 волна'\n",
    "    elif delta_days <= 21:\n",
    "        return '3 волна'\n",
    "    elif delta_days <= 28:\n",
    "        return '4 волна'\n",
    "    else:\n",
    "        return '5 волна'\n",
    "\n",
    "# Применение функции к каждому ученику\n",
    "data['wave'] = data.apply(determine_wave, axis=1)\n",
    "\n",
    "# Результат\n",
    "data[['user_id', 'course_id', 'wave']].head()\n",
    "```\n"
   ]
  }
 ],
 "metadata": {},
 "nbformat": 4,
 "nbformat_minor": 5
}
